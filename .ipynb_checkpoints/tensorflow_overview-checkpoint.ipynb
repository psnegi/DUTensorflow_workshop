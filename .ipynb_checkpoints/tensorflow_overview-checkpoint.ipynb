{
 "cells": [
  {
   "cell_type": "markdown",
   "metadata": {
    "slideshow": {
     "slide_type": "slide"
    }
   },
   "source": [
    "<h1 align = 'center'> Tensorflow </h1> \n",
    "<h1 align = 'center'> Large-Scale Machine Learning on </h1>\n",
    "<h1 align = 'center'>Heterogeneous Distributed Systems </h1>\n",
    "<br> <br> <br> <br>\n",
    "(Preliminary White Paper, by google, November 9, 2015)\n",
    "\n"
   ]
  },
  {
   "cell_type": "markdown",
   "metadata": {
    "slideshow": {
     "slide_type": "slide"
    }
   },
   "source": [
    "<h1> Outline</h1>\n",
    " <li> What is tensorflow ? </li>\n",
    " <li> Programming Model and Basic Concepts</li>\n",
    " <li> Operations and Kernels </li>\n",
    "    "
   ]
  },
  {
   "cell_type": "markdown",
   "metadata": {
    "slideshow": {
     "slide_type": "slide"
    }
   },
   "source": [
    "<h1 align = 'center'> Whats is tensorflow? </h1>\n",
    "\n",
    "\n",
    "   A heterogeneous, distributed system to specify various machine learning algorithms,\n",
    "   and an implementation for executing such algorithm.\n",
    "   "
   ]
  },
  {
   "cell_type": "markdown",
   "metadata": {
    "slideshow": {
     "slide_type": "slide"
    }
   },
   "source": [
    "<h1 align = 'center'> Programming Model and Basic Concepts </h1>\n",
    "<li> Computation are represented by directed graph</li>\n",
    "<ul> <li>Each node has one or more input and output, and represent intantiation of an operation</li>\n",
    "    <li> Value flowing along these edges are called tensor </li>\n",
    "</ul>\n",
    "<li> Nodes for  persistent state and for branching and looping control </li>\n",
    "\n",
    "<li> Python and C++ as supported front end languages for building computational graph </li>\n",
    "\n"
   ]
  },
  {
   "cell_type": "markdown",
   "metadata": {
    "slideshow": {
     "slide_type": "slide"
    }
   },
   "source": [
    "<h1 align = 'center'> Operations and Kernels </h1>\n",
    "<li>An  <b>operation</b> has a name and represents an abstract computation (e.g., “matrix multiply”, or “add”). </li>\n",
    "<li> A <b>kernel </b> is a particular implementation of an operation for running on CPU\n",
    "or GPU. </li>"
   ]
  }
 ],
 "metadata": {
  "kernelspec": {
   "display_name": "Python 2",
   "language": "python",
   "name": "python2"
  },
  "language_info": {
   "codemirror_mode": {
    "name": "ipython",
    "version": 2
   },
   "file_extension": ".py",
   "mimetype": "text/x-python",
   "name": "python",
   "nbconvert_exporter": "python",
   "pygments_lexer": "ipython2",
   "version": "2.7.6"
  }
 },
 "nbformat": 4,
 "nbformat_minor": 0
}
