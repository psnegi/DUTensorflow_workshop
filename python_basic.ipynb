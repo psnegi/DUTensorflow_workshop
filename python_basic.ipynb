{
 "cells": [
  {
   "cell_type": "markdown",
   "metadata": {},
   "source": [
    "# Python\n",
    "Python is a high-level, general-purpose, interpreted, dynamic programming language. \n",
    "Python supports Boolean, integer, float ,string many other data types. Lanuage support usual flow control syntax\n",
    "like for, while, if, else, continue, break etc and arithmetic operator and logical operator."
   ]
  },
  {
   "cell_type": "markdown",
   "metadata": {},
   "source": [
    "# Some inbuilt function and important flow control syntax\n",
    "https://docs.python.org/2/library/functions.html"
   ]
  },
  {
   "cell_type": "markdown",
   "metadata": {},
   "source": [
    "## range"
   ]
  },
  {
   "cell_type": "code",
   "execution_count": 12,
   "metadata": {
    "collapsed": false
   },
   "outputs": [
    {
     "name": "stdout",
     "output_type": "stream",
     "text": [
      "[0, 1, 2, 3, 4, 5, 6, 7, 8, 9]\n",
      "[10, 12, 14, 16, 18]\n"
     ]
    }
   ],
   "source": [
    "# range(start, stop[, step]) The arguments must be plain integers\n",
    "result = range(10)\n",
    "print(result)\n",
    "print(range(10, 20, 2))"
   ]
  },
  {
   "cell_type": "code",
   "execution_count": 15,
   "metadata": {
    "collapsed": false
   },
   "outputs": [
    {
     "name": "stdout",
     "output_type": "stream",
     "text": [
      "<type 'list'>\n",
      "<type 'int'>\n"
     ]
    }
   ],
   "source": [
    "print(type(result)) # it return list type. We will talk about it later. it is just sequence of items\n",
    "print(type(result[0]))"
   ]
  },
  {
   "cell_type": "code",
   "execution_count": 19,
   "metadata": {
    "collapsed": true
   },
   "outputs": [],
   "source": [
    "# in general to see the syntax use ? or ??. ipython or jupyter notebook support tab completion\n",
    "range?"
   ]
  },
  {
   "cell_type": "code",
   "execution_count": null,
   "metadata": {
    "collapsed": true
   },
   "outputs": [],
   "source": [
    "# you can press <Shift>-<Tab> to get a tooltip showing the function's signature in notebook"
   ]
  },
  {
   "cell_type": "markdown",
   "metadata": {},
   "source": [
    "# for loop"
   ]
  },
  {
   "cell_type": "code",
   "execution_count": 21,
   "metadata": {
    "collapsed": false
   },
   "outputs": [
    {
     "name": "stdout",
     "output_type": "stream",
     "text": [
      "item 0 item square 0\n",
      "item 1 item square 1\n",
      "item 2 item square 4\n",
      "item 3 item square 9\n",
      "item 4 item square 16\n",
      "item 5 item square 25\n",
      "item 6 item square 36\n",
      "item 7 item square 49\n",
      "item 8 item square 64\n",
      "item 9 item square 81\n"
     ]
    }
   ],
   "source": [
    "#for <variable> in <sequence>:\n",
    "#<statements>\n",
    "\n",
    "for item in range(10):\n",
    "    print('item {} item square {}'.format(item, item*item))            "
   ]
  },
  {
   "cell_type": "markdown",
   "metadata": {},
   "source": [
    "# Basic Data\n",
    " We will be manily interested in these\n",
    "* List\n",
    "* tuple\n",
    "* Dictionary"
   ]
  },
  {
   "cell_type": "markdown",
   "metadata": {},
   "source": [
    "## List\n",
    "To create a sequence of values\n",
    "* We generally use list to store several values for same type of data like list of integers, list of strings etc.\n",
    "* List are useful when we want o modify the content like adding or deleting\n"
   ]
  },
  {
   "cell_type": "code",
   "execution_count": 25,
   "metadata": {
    "collapsed": false
   },
   "outputs": [
    {
     "name": "stdout",
     "output_type": "stream",
     "text": [
      "1\n",
      "10\n"
     ]
    }
   ],
   "source": [
    "x = [1, 3, 5, 10] \n",
    "print(x[0]) # list is 0 index based\n",
    "print(x[3])"
   ]
  },
  {
   "cell_type": "markdown",
   "metadata": {},
   "source": [
    "list support ** append, insert and remove**"
   ]
  },
  {
   "cell_type": "code",
   "execution_count": 7,
   "metadata": {
    "collapsed": false
   },
   "outputs": [
    {
     "name": "stdout",
     "output_type": "stream",
     "text": [
      "['red', 10]\n"
     ]
    }
   ],
   "source": [
    "y = list() # same as y = [], syntactic sugar\n",
    "y.append('red') \n",
    "y.append(10) # it is heterogenuous collection of item\n",
    "print(y)\n"
   ]
  },
  {
   "cell_type": "markdown",
   "metadata": {},
   "source": [
    "**Via list comphrehension**\n"
   ]
  },
  {
   "cell_type": "code",
   "execution_count": 23,
   "metadata": {
    "collapsed": false
   },
   "outputs": [
    {
     "name": "stdout",
     "output_type": "stream",
     "text": [
      "[0, 1, 4, 9, 16, 25, 36, 49, 64, 81]\n"
     ]
    }
   ],
   "source": [
    "# [<some_func>(x) for x in <something> if  <some_condition_is_true>]\n",
    "square_list = [x*x for x in range(10)]\n",
    "print(square_list)\n"
   ]
  },
  {
   "cell_type": "code",
   "execution_count": 26,
   "metadata": {
    "collapsed": false
   },
   "outputs": [
    {
     "name": "stdout",
     "output_type": "stream",
     "text": [
      "[0, 4, 16, 36, 64]\n"
     ]
    }
   ],
   "source": [
    "even_number_square_list = [x*x for x in range(10) if x%2 ==0]\n",
    "print(even_number_square_list)"
   ]
  },
  {
   "cell_type": "markdown",
   "metadata": {},
   "source": [
    "### Excercise 1: use for loop and list to build cubic list of number from 0 to 10 including"
   ]
  },
  {
   "cell_type": "markdown",
   "metadata": {},
   "source": [
    "## tuple\n",
    "tuple are use to aggregate dfferent piece of data in one container.\n",
    "Tuple are immutable. So we can't modify their content\n",
    "\n",
    "**Creating tuple**\n"
   ]
  },
  {
   "cell_type": "code",
   "execution_count": 30,
   "metadata": {
    "collapsed": false
   },
   "outputs": [
    {
     "name": "stdout",
     "output_type": "stream",
     "text": [
      "('Milky Way ', '100,000-120,000', 200, 100)\n",
      "Milky Way \n"
     ]
    }
   ],
   "source": [
    "our_galaxy = (\"Milky Way \", \"100,000-120,000\", 200, 100) # name, diameter, stars, planets\n",
    "print(our_galaxy)\n",
    "print(our_galaxy[0])\n"
   ]
  },
  {
   "cell_type": "markdown",
   "metadata": {},
   "source": [
    "** tuple unpacking**"
   ]
  },
  {
   "cell_type": "code",
   "execution_count": 33,
   "metadata": {
    "collapsed": false
   },
   "outputs": [
    {
     "name": "stdout",
     "output_type": "stream",
     "text": [
      "100\n"
     ]
    }
   ],
   "source": [
    "name, diameter, stars, planets = our_galaxy # tuple unpacking\n",
    "print(planets)"
   ]
  },
  {
   "cell_type": "markdown",
   "metadata": {},
   "source": [
    "One of the major disadvantage is their readability. What is the third poition of a tuple.\n",
    "Can guess from context, but is hard in general if there are  lot element in tuple.\n",
    "\n",
    "**Name tuple come to rescue in this situation. no covering in this workshope **"
   ]
  },
  {
   "cell_type": "markdown",
   "metadata": {},
   "source": [
    "## Dictionaries\n",
    "Dictionaries allows mapping object to other objects i.e they store key valye pair. They are extremly efficient in look up based on key.\n",
    "\n",
    "They are also go to pass variable number of parameters in the functions.\n",
    "\n",
    "**Key:** value used for index\n",
    "\n",
    "**Value** stored value"
   ]
  },
  {
   "cell_type": "markdown",
   "metadata": {},
   "source": [
    "** creating dictionaries**"
   ]
  },
  {
   "cell_type": "code",
   "execution_count": 37,
   "metadata": {
    "collapsed": false
   },
   "outputs": [
    {
     "name": "stdout",
     "output_type": "stream",
     "text": [
      "{'threshold': 20, 'neighborhoodSize': 4, 'tolerance': 0.002}\n"
     ]
    }
   ],
   "source": [
    "algoConfig = {} # can use nameAgeDic = dict()\n",
    "algoConfig['threshold'] = 20 # in pixel\n",
    "algoConfig['neighborhoodSize'] = 4 # 4X4 neighborhood\n",
    "algoConfig['tolerance'] = 0.002 # convergence tolerance\n",
    "print(algoConfig)"
   ]
  },
  {
   "cell_type": "markdown",
   "metadata": {},
   "source": [
    " ** some syntactic sugar**"
   ]
  },
  {
   "cell_type": "code",
   "execution_count": 54,
   "metadata": {
    "collapsed": false
   },
   "outputs": [
    {
     "name": "stdout",
     "output_type": "stream",
     "text": [
      "{'a': 2, 'c': 54, 'b': 10}\n",
      "10\n"
     ]
    }
   ],
   "source": [
    "charValDict = {'a':2, 'b': 10, 'c':54}\n",
    "print charValDict\n",
    "print charValDict['b']"
   ]
  },
  {
   "cell_type": "markdown",
   "metadata": {},
   "source": [
    "**All the keys and values in dictionaries **"
   ]
  },
  {
   "cell_type": "code",
   "execution_count": 59,
   "metadata": {
    "collapsed": false
   },
   "outputs": [
    {
     "name": "stdout",
     "output_type": "stream",
     "text": [
      "['a', 'c', 'b']\n",
      "[2, 54, 10]\n",
      "[('a', 2), ('c', 54), ('b', 10)]\n"
     ]
    }
   ],
   "source": [
    "print(charValDict.keys())\n",
    "print(charValDict.values())\n",
    "print(charValDict.items())"
   ]
  },
  {
   "cell_type": "markdown",
   "metadata": {},
   "source": [
    "** Using directionary comprehension **"
   ]
  },
  {
   "cell_type": "code",
   "execution_count": 53,
   "metadata": {
    "collapsed": false
   },
   "outputs": [
    {
     "name": "stdout",
     "output_type": "stream",
     "text": [
      "{'paul': 60, 'John': 30, 'sam': 80}\n"
     ]
    }
   ],
   "source": [
    "studentScore = [['John', (10, 20 )], ['sam', (30, 50)] , ['paul', (40, 20)]]\n",
    "finalScoreDict = {  name: sum(score) for  name, score in studentScore }\n",
    "print(finalScoreDict)"
   ]
  },
  {
   "cell_type": "markdown",
   "metadata": {},
   "source": [
    "## Sets\n",
    "Set are simiar to mathematical set. They represent collection of unique things.\n",
    " we can check set cardinality, set membership, union, intersection etc."
   ]
  },
  {
   "cell_type": "code",
   "execution_count": 50,
   "metadata": {
    "collapsed": false
   },
   "outputs": [
    {
     "name": "stdout",
     "output_type": "stream",
     "text": [
      "set([10, 20, 5])\n",
      "set after adding 15 is set([10, 20, 5, 15])\n",
      "Cardinality of set is 4\n"
     ]
    },
    {
     "data": {
      "text/plain": [
       "True"
      ]
     },
     "execution_count": 50,
     "metadata": {},
     "output_type": "execute_result"
    }
   ],
   "source": [
    "nameSet = set() # empty set\n",
    "ageSet = set([10, 20, 5])\n",
    "print(ageSet)\n",
    "ageSet.add(15)\n",
    "print('set after adding {} is {}'.format(15, ageSet))\n",
    "print('Cardinality of set is {}'.format(len(ageSet))) #cardinality of set\n",
    "10 in ageSet # membership"
   ]
  },
  {
   "cell_type": "markdown",
   "metadata": {},
   "source": [
    "**Excercise: Supose we have following dictioney of instructor name: course taught **\n",
    "** What are the different course taught in the department? **"
   ]
  },
  {
   "cell_type": "code",
   "execution_count": 61,
   "metadata": {
    "collapsed": true
   },
   "outputs": [],
   "source": [
    "instructorCourseLibrary = {'Dr. Mohammad Mahoor': ['Machine learning', 'VLSI Design', 'linear lagebra'],\n",
    "                           'Dr. KIMON VALAVANIS':[ 'Pattern Recognition', 'statistics'] ,\n",
    "                           'Dr. GEORGE EDWARDS':['VLSI Design', 'Pattern Recognition'] }"
   ]
  },
  {
   "cell_type": "markdown",
   "metadata": {},
   "source": [
    "## writing function "
   ]
  },
  {
   "cell_type": "code",
   "execution_count": 64,
   "metadata": {
    "collapsed": true
   },
   "outputs": [],
   "source": [
    "def calculate_l2_norm_square_of_vector(vec):\n",
    "    sum = 0\n",
    "    for item in vec:\n",
    "        sum = sum + item*item\n",
    "    return sum    \n",
    "        "
   ]
  },
  {
   "cell_type": "code",
   "execution_count": 66,
   "metadata": {
    "collapsed": false
   },
   "outputs": [
    {
     "name": "stdout",
     "output_type": "stream",
     "text": [
      "5\n"
     ]
    }
   ],
   "source": [
    "print(calculate_l2_norm_square_of_vector([1,2]))"
   ]
  },
  {
   "cell_type": "markdown",
   "metadata": {},
   "source": [
    "## writing variable number of arguments function"
   ]
  },
  {
   "cell_type": "code",
   "execution_count": 70,
   "metadata": {
    "collapsed": false
   },
   "outputs": [
    {
     "name": "stdout",
     "output_type": "stream",
     "text": [
      "1\n",
      "('9 Nov', 'Denver', 75)\n",
      "9 Nov\n",
      "Denver\n",
      "75\n"
     ]
    }
   ],
   "source": [
    "def logInfo(level, *args ):\n",
    "    print level\n",
    "    print args\n",
    "    for arg in args:\n",
    "        print(arg)\n",
    "        \n",
    "logInfo(1, '9 Nov', 'Denver', 75 )      "
   ]
  },
  {
   "cell_type": "markdown",
   "metadata": {},
   "source": [
    "Actually these variable number of arguments are packed into a tuple.\n",
    "\n",
    "Using *operator we can do the opposite i.e unpack the argument out of a list or tuple"
   ]
  },
  {
   "cell_type": "markdown",
   "metadata": {},
   "source": [
    "Similary for passing variable length keyword argument use following syntax"
   ]
  },
  {
   "cell_type": "code",
   "execution_count": 71,
   "metadata": {
    "collapsed": false
   },
   "outputs": [
    {
     "name": "stdout",
     "output_type": "stream",
     "text": [
      "1\n",
      "{'Date': '9 Nov', 'City': 'Denver', 'Temperature': 75}\n",
      "key = Date value = 9 Nov\n",
      "key = City value = Denver\n",
      "key = Temperature value = 75\n"
     ]
    }
   ],
   "source": [
    "def logInfoKeyWord(level, **kwargs ):\n",
    "    print level\n",
    "    print kwargs\n",
    "    for key , val in kwargs.items():\n",
    "        print('key = {} value = {}'.format(key, val))\n",
    "        \n",
    "\n",
    "logInfoKeyWord(1, Date= '9 Nov', City = 'Denver', Temperature=75)\n",
    "     "
   ]
  },
  {
   "cell_type": "markdown",
   "metadata": {},
   "source": [
    "Or we can use ** operator on a dictionary to get keyword arguments"
   ]
  },
  {
   "cell_type": "code",
   "execution_count": 73,
   "metadata": {
    "collapsed": false
   },
   "outputs": [
    {
     "name": "stdout",
     "output_type": "stream",
     "text": [
      "1\n",
      "{'Date': '9 Nov', 'City': 'Houston', 'Temperature': 75}\n",
      "key = Date value = 9 Nov\n",
      "key = City value = Houston\n",
      "key = Temperature value = 75\n"
     ]
    }
   ],
   "source": [
    "params = {'Date': '9 Nov', 'City' : 'Houston', 'Temperature':75} \n",
    "logInfoKeyWord(1, **params )   "
   ]
  },
  {
   "cell_type": "markdown",
   "metadata": {},
   "source": [
    "Before the variable number of arguments, zero or more normal arguments may occur.\n",
    "if we use both then \\*args must occur before **kwargs"
   ]
  },
  {
   "cell_type": "markdown",
   "metadata": {},
   "source": [
    "## Python with battery included (standard library)"
   ]
  },
  {
   "cell_type": "markdown",
   "metadata": {},
   "source": [
    "Python comes some built in function like print, len etc and a set of modules called standard library.\n",
    "A module is set of related python function like math, random, numpy, scipy, matplotlib etc.\n",
    "To use a module you has to first import it using one of following syntax.\n",
    "\n",
    "https://docs.python.org/2/library/\n",
    "\n",
    "https://docs.python.org/3/library/"
   ]
  },
  {
   "cell_type": "code",
   "execution_count": 75,
   "metadata": {
    "collapsed": false
   },
   "outputs": [
    {
     "data": {
      "text/plain": [
       "1.0"
      ]
     },
     "execution_count": 75,
     "metadata": {},
     "output_type": "execute_result"
    }
   ],
   "source": [
    "import math\n",
    "math.sin(math.pi/2)"
   ]
  },
  {
   "cell_type": "markdown",
   "metadata": {},
   "source": [
    "or"
   ]
  },
  {
   "cell_type": "code",
   "execution_count": 77,
   "metadata": {
    "collapsed": false
   },
   "outputs": [
    {
     "data": {
      "text/plain": [
       "1.0"
      ]
     },
     "execution_count": 77,
     "metadata": {},
     "output_type": "execute_result"
    }
   ],
   "source": [
    "import math as mt\n",
    "mt.sin(mt.pi/2)"
   ]
  },
  {
   "cell_type": "code",
   "execution_count": 78,
   "metadata": {
    "collapsed": false
   },
   "outputs": [
    {
     "data": {
      "text/plain": [
       "1.0"
      ]
     },
     "execution_count": 78,
     "metadata": {},
     "output_type": "execute_result"
    }
   ],
   "source": [
    "from math import sin, pi\n",
    "\n",
    "sin(pi/2)"
   ]
  },
  {
   "cell_type": "code",
   "execution_count": 82,
   "metadata": {
    "collapsed": false
   },
   "outputs": [
    {
     "name": "stdout",
     "output_type": "stream",
     "text": [
      "[[1 4 8]\n",
      " [3 4 6]]\n"
     ]
    }
   ],
   "source": [
    "import numpy as np\n",
    "\n",
    "x = np.array([[1, 4 ,8],[ 3 , 4, 6]])\n",
    "print(x)"
   ]
  },
  {
   "cell_type": "markdown",
   "metadata": {},
   "source": [
    "** slicing numpy array is similar to MATLAB **"
   ]
  },
  {
   "cell_type": "code",
   "execution_count": 85,
   "metadata": {
    "collapsed": false
   },
   "outputs": [
    {
     "name": "stdout",
     "output_type": "stream",
     "text": [
      "[4 6]\n"
     ]
    }
   ],
   "source": [
    "print(x[1,1:])"
   ]
  },
  {
   "cell_type": "code",
   "execution_count": 87,
   "metadata": {
    "collapsed": true
   },
   "outputs": [],
   "source": [
    "#%matplotlib inline\n",
    "import numpy as np\n",
    "import matplotlib.pyplot as plt\n",
    "x = np.linspace(0, 10)\n",
    "line, = plt.plot(x, np.sin(x), '--', linewidth=2)\n",
    "plt.show()"
   ]
  },
  {
   "cell_type": "markdown",
   "metadata": {},
   "source": [
    " Most of the the scientifc work is driven by  <a href = \"https://www.scipy.org/\">numpy, scipy,sympy,  matplotlib, bokeh, pandas</a> and \n",
    " \n",
    " domain specific packages like \n",
    " * <a href = \"http://scikit-learn.org/stable/\">scikit-learn: machine learning in Python</a>\n",
    " * <a href=\"http://scikit-image.org/\">image processing scikit-image: Image processing in Python — scikit-image</a>\n",
    " \n",
    " Just google and there will be a package for the job.\n",
    " \n",
    " Checkout repository of software for the Python https://pypi.python.org/pypi\n"
   ]
  },
  {
   "cell_type": "markdown",
   "metadata": {},
   "source": [
    " <font color = 'green' size = 10  > python is fun coding !!! </font>"
   ]
  }
 ],
 "metadata": {
  "kernelspec": {
   "display_name": "Python 2",
   "language": "python",
   "name": "python2"
  },
  "language_info": {
   "codemirror_mode": {
    "name": "ipython",
    "version": 2
   },
   "file_extension": ".py",
   "mimetype": "text/x-python",
   "name": "python",
   "nbconvert_exporter": "python",
   "pygments_lexer": "ipython2",
   "version": "2.7.6"
  }
 },
 "nbformat": 4,
 "nbformat_minor": 0
}
