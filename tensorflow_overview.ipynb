{
 "cells": [
  {
   "cell_type": "markdown",
   "metadata": {
    "slideshow": {
     "slide_type": "slide"
    }
   },
   "source": [
    "<h1 align = 'center'> Tensorflow </h1> \n",
    "<h1 align = 'center'> Large-Scale Machine Learning on </h1>\n",
    "<h1 align = 'center'>Heterogeneous Distributed Systems </h1>\n",
    "<br> <br> <br> <br>\n",
    "(Preliminary White Paper, by google, November 9, 2015)\n",
    "\n"
   ]
  },
  {
   "cell_type": "markdown",
   "metadata": {
    "slideshow": {
     "slide_type": "slide"
    }
   },
   "source": [
    "<h1> Outline</h1>\n",
    "  * What is tensorflow ?\n",
    "  * Programming Model and Basic Concepts\n",
    "    - Operations and Kernels\n",
    "    - Sessions\n",
    "    - Variables \n",
    "  * Implementation\n",
    "    - Devices\n",
    "    - Variables\n",
    "   \n",
    "  \n",
    "    "
   ]
  },
  {
   "cell_type": "markdown",
   "metadata": {
    "slideshow": {
     "slide_type": "slide"
    }
   },
   "source": [
    "* Gradient Computation\n",
    "*  Input Operations \n",
    "*  Queues\n",
    "*  Tools: Tensorboard \n",
    "* Tools: Visualization of Summary Data"
   ]
  },
  {
   "cell_type": "markdown",
   "metadata": {
    "slideshow": {
     "slide_type": "slide"
    }
   },
   "source": [
    "<h1 align = 'center'> Whats is tensorflow? </h1>\n",
    "\n",
    "\n",
    "   A heterogeneous, distributed system to specify various machine learning algorithms,\n",
    "   and an implementation for executing such algorithm.\n",
    "   "
   ]
  },
  {
   "cell_type": "markdown",
   "metadata": {
    "slideshow": {
     "slide_type": "fragment"
    }
   },
   "source": [
    "A tensor  is a typed, multi-dimensional array with support for variety of element types."
   ]
  },
  {
   "cell_type": "markdown",
   "metadata": {
    "slideshow": {
     "slide_type": "slide"
    }
   },
   "source": [
    "<h1 align = 'center'> Programming Model and Basic Concepts </h1>\n",
    "<li> Computation are represented by directed graph</li>\n",
    "<ul> \n",
    "    <li>Each node has one or more input and output, and represent instantiation of an operation</li>\n",
    "    <li> Value flowing along these edges are called tensor </li>\n",
    "</ul>\n",
    "<li> Nodes for  persistent state and for branching and looping control </li>\n",
    "\n",
    "<li> Python and C++ as supported front end languages for building computational graph </li>\n",
    "\n"
   ]
  },
  {
   "cell_type": "markdown",
   "metadata": {
    "slideshow": {
     "slide_type": "slide"
    }
   },
   "source": [
    "<h1 align = 'center'>  Example TensorFlow code fragment   </h1>\n",
    "<center><img src=\"Figures/code_sample.png\" alt=\"Smiley face\" height=\"1000\" width=\"1100\"> </center>\n",
    "\n",
    "<font size=\"2\"> From: google whitepaper on tensorflow </font>\n"
   ]
  },
  {
   "cell_type": "markdown",
   "metadata": {
    "slideshow": {
     "slide_type": "slide"
    }
   },
   "source": [
    "<h1 align = 'center'>  computation graph   </h1>\n",
    "<center><img src=\"Figures/computation_graph.png\" alt=\"Smiley face\" height=\"700\" width=\"600\"> </center>\n",
    "\n",
    "<font size=\"2\"> From: google whitepaper on tensorflow </font>\n"
   ]
  },
  {
   "cell_type": "markdown",
   "metadata": {
    "slideshow": {
     "slide_type": "slide"
    }
   },
   "source": [
    "<h1 align = 'center'> Operations and Kernels </h1>\n",
    "<li>An  <b>operation</b> has a name and represents an abstract computation (e.g., “matrix multiply”, or “add”). </li>\n",
    "<li> A <b>kernel </b> is a particular implementation of an operation for running on CPU\n",
    "or GPU. </li>"
   ]
  },
  {
   "cell_type": "markdown",
   "metadata": {
    "slideshow": {
     "slide_type": "slide"
    }
   },
   "source": [
    "<h1 align = 'center'> Session </h1>\n",
    " * Client program interact with tensorflow system via session. \n",
    " * One of the main operation is **Run** method\n",
    " * tensorflow compute the transitive closure of all nodes that must be executed in order to compute the outputs in **Run**"
   ]
  },
  {
   "cell_type": "markdown",
   "metadata": {
    "slideshow": {
     "slide_type": "notes"
    }
   },
   "source": [
    "In most computations a graph is executed multiple times.\n",
    "Most tensors do not survive past a single execution of the\n",
    "graph. "
   ]
  },
  {
   "cell_type": "markdown",
   "metadata": {
    "slideshow": {
     "slide_type": "slide"
    }
   },
   "source": [
    "<h1 align = 'center'> Variables </h1>\n",
    "<br><br> <br>\n",
    "Variable is a special kind of operation that returns a handle to <br> <br> a persistent mutable tensor\n",
    "that survives across executions of a graph."
   ]
  },
  {
   "cell_type": "markdown",
   "metadata": {
    "slideshow": {
     "slide_type": "slide"
    }
   },
   "source": [
    "<h1 align = 'center'> Implementation </h1>\n",
    "* Client uses session interface to communicate with master and one or more worker processes.\n",
    "* worker process are responsible for arbitrating access to  CPU cores or GPU cards.\n",
    "* Worker execute graph nodes on those devices as instructed by the master."
   ]
  },
  {
   "cell_type": "markdown",
   "metadata": {
    "slideshow": {
     "slide_type": "slide"
    }
   },
   "source": [
    "<h1 align = 'center'> Devices </h1>\n",
    "* Devices are the computational heart of TensorFlow.\n",
    "* Each worker manges one more more devices.\n",
    "*  Example device names are \"/job:localhost/device:cpu:0\" or\n",
    "\"/job:worker/task:17/device:gpu:3\""
   ]
  },
  {
   "cell_type": "markdown",
   "metadata": {
    "slideshow": {
     "slide_type": "slide"
    }
   },
   "source": [
    "<h1 align = 'center'> Gradient Computation </h1>\n",
    "<br>\n",
    "Tensorflow has inbuild support for automatic gradient computation. \n",
    "<center><img src=\"Figures/gradient_computation.png\" alt=\"Smiley face\" height=\"600\" width=\"600\"> </center>\n",
    "\n",
    "<font size=\"2\"> From: google whitepaper on tensorflow </font>"
   ]
  },
  {
   "cell_type": "markdown",
   "metadata": {
    "slideshow": {
     "slide_type": "slide"
    }
   },
   "source": [
    "<h1 align = 'center'> Input Operations </h1>\n",
    "* Special input operation nodes for training large scale model.\n",
    "* Typically configured with filesnames"
   ]
  },
  {
   "cell_type": "markdown",
   "metadata": {
    "slideshow": {
     "slide_type": "slide"
    }
   },
   "source": [
    "<h1 align = 'center'> Queues </h1>\n",
    "* Allows hand off data thourgh Enqueue and Dequeue.\n",
    "* Allow different portions of the graph to execute asynchronously.\n",
    "* Allow data to be prefetched into queue while other previous batch is used."
   ]
  },
  {
   "cell_type": "markdown",
   "metadata": {
    "slideshow": {
     "slide_type": "slide"
    }
   },
   "source": [
    "<h1 align = 'center'> Tools: Tensorboard </h1>\n",
    " Allows Visualization of graph. \n",
    "<center><img src=\"Figures/graph_vis.png\" alt=\"Smiley face\" height=\"700\" width=\"700\"> </center>\n",
    "\n",
    "<font size=\"2\"> From: google whitepaper on tensorflow </font>"
   ]
  },
  {
   "cell_type": "markdown",
   "metadata": {
    "slideshow": {
     "slide_type": "slide"
    }
   },
   "source": [
    "<h1 align = 'center'> Tools: Visualization of Summary Data </h1>\n",
    "<br>\n",
    " Allows examination the state of various aspectsof the model\n",
    "<center><img src=\"Figures/summary_vis.png\" alt=\"Smiley face\" height=\"900\" width=\"900\"> </center>\n",
    "\n",
    "<font size=\"2\"> From: google whitepaper on tensorflow </font>"
   ]
  }
 ],
 "metadata": {
  "kernelspec": {
   "display_name": "Python 2",
   "language": "python",
   "name": "python2"
  },
  "language_info": {
   "codemirror_mode": {
    "name": "ipython",
    "version": 2
   },
   "file_extension": ".py",
   "mimetype": "text/x-python",
   "name": "python",
   "nbconvert_exporter": "python",
   "pygments_lexer": "ipython2",
   "version": "2.7.6"
  }
 },
 "nbformat": 4,
 "nbformat_minor": 0
}
